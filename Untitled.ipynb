{
 "cells": [
  {
   "cell_type": "code",
   "execution_count": 50,
   "metadata": {},
   "outputs": [],
   "source": [
    "class CaeserCypher():\n",
    "    def __init__(self, charShift: int):\n",
    "        if charShift > 26 or charShift < 0:\n",
    "            raise Exception(\"Invalid caeser shit exceeding alphabet or lower than 0\")\n",
    "        self.__CHAR_SHIFT = charShift\n",
    "        self.__Z = 122\n",
    "        self.__A = 97\n",
    "        \n",
    "    def getCaeserFromString(self, inputStr: str, toEncode: bool):\n",
    "        caeserString = \"\"\n",
    "        for character in inputStr:\n",
    "            caeserString = caeserString + self.__getCaeserConverterAscii(character, toEncode)\n",
    "        return caeserString\n",
    "                \n",
    "    def __getCaeserConverterAscii(self, inputCharacter: str, toEncode: bool):\n",
    "        # are we encoding or decoding\n",
    "        if toEncode:\n",
    "            newAsciiValue = ord(inputCharacter) + self.__CHAR_SHIFT\n",
    "        else:\n",
    "            newAsciiValue = ord(inputCharacter) - self.__CHAR_SHIFT\n",
    "            \n",
    "        # handle if encoded > z\n",
    "        howManyGreaterThanZ = self.__asciiValueAboveZ(newAsciiValue)\n",
    "        if howManyGreaterThanZ > 0:\n",
    "            return chr(self.__A - 1 + howManyGreaterThanZ)\n",
    "        \n",
    "        # handle if < a\n",
    "        howManyLessThanA = self.__asciiValueBelowA(newAsciiValue)\n",
    "        if howManyLessThanA > 0:\n",
    "            return chr(self.__Z + 1 - howManyLessThanA)\n",
    "\n",
    "        # its fine\n",
    "        return chr(newAsciiValue)\n",
    "            \n",
    "    \n",
    "    def __asciiValueAboveZ(self, asciiInput: int):\n",
    "        return asciiInput - self.__Z\n",
    "    \n",
    "    def __asciiValueBelowA(self, asciiInput: int):\n",
    "        return self.__A - asciiInput"
   ]
  },
  {
   "cell_type": "code",
   "execution_count": 51,
   "metadata": {},
   "outputs": [
    {
     "name": "stdout",
     "output_type": "stream",
     "text": [
      "cde\n"
     ]
    }
   ],
   "source": [
    "cypher = CaeserCypher(3)\n",
    "print(cypher.getCaeserFromString(\"zab\", toEncode=True))"
   ]
  },
  {
   "cell_type": "code",
   "execution_count": 52,
   "metadata": {},
   "outputs": [
    {
     "data": {
      "text/plain": [
       "'wxy'"
      ]
     },
     "execution_count": 52,
     "metadata": {},
     "output_type": "execute_result"
    }
   ],
   "source": [
    "\n",
    "cypher.getCaeserFromString(\"zab\", toEncode=False)"
   ]
  },
  {
   "cell_type": "code",
   "execution_count": null,
   "metadata": {},
   "outputs": [],
   "source": [
    "\n",
    "    "
   ]
  },
  {
   "cell_type": "code",
   "execution_count": null,
   "metadata": {},
   "outputs": [],
   "source": []
  }
 ],
 "metadata": {
  "kernelspec": {
   "display_name": "Python 3",
   "language": "python",
   "name": "python3"
  },
  "language_info": {
   "codemirror_mode": {
    "name": "ipython",
    "version": 3
   },
   "file_extension": ".py",
   "mimetype": "text/x-python",
   "name": "python",
   "nbconvert_exporter": "python",
   "pygments_lexer": "ipython3",
   "version": "3.8.5"
  }
 },
 "nbformat": 4,
 "nbformat_minor": 4
}

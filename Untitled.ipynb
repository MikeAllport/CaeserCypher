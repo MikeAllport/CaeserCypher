{
 "cells": [
  {
   "cell_type": "code",
   "execution_count": 25,
   "metadata": {},
   "outputs": [],
   "source": [
    "class CaesarCypher():\n",
    "    def __init__(self, charShift: int):\n",
    "        if charShift > 26 or charShift < 0:\n",
    "            raise Exception(\"Invalid caesar shit exceeding alphabet or lower than 0\")\n",
    "        self.charShift = charShift\n",
    "        self.caesarMessage = \"\"\n",
    "        self.__Z = 122\n",
    "        self.__A = 97\n",
    "        \n",
    "    def encodeString(self, stringToEncode: str):\n",
    "        self.caesarMessage = stringToEncode\n",
    "        self.__setCaesarMessage()\n",
    "    \n",
    "    def decodeString(self, stringToDecode: str):\n",
    "        self.caesarMessage = stringToDecode\n",
    "        self.__invertCharShift()\n",
    "        self.__setCaesarMessage()\n",
    "        self.__invertCharShift()\n",
    "        \n",
    "    def __invertCharShift(self):\n",
    "        self.charShift = -self.charShift\n",
    "        \n",
    "    def __setCaesarMessage(self):\n",
    "        caesarString = \"\"\n",
    "        for character in self.caesarMessage:\n",
    "            caesarString = caesarString + self.__getCaesarConvertedAscii(character)\n",
    "        self.caesarMessage = caesarString\n",
    "                \n",
    "    def __getCaesarConvertedAscii(self, inputCharacter: str):\n",
    "        newAsciiValue = ord(inputCharacter) + self.charShift\n",
    "        \n",
    "        # allow spaces, although definition of Caesar Cypher i saw only allowed 26 characters of \n",
    "        # alphabet\n",
    "        if (inputCharacter == \" \" or \n",
    "            inputCharacter == chr(ord(\" \") + self.charShift) or\n",
    "            inputCharacter == chr(ord(\" \") - self.charShift)):\n",
    "            return chr(newAsciiValue)\n",
    "        \n",
    "        # handle if encoded > z\n",
    "        howManyGreaterThanZ = self.__asciiValueAboveZ(newAsciiValue)\n",
    "        if howManyGreaterThanZ > 0:\n",
    "            return chr(self.__A - 1 + howManyGreaterThanZ)\n",
    "        \n",
    "        # handle if < a\n",
    "        howManyLessThanA = self.__asciiValueBelowA(newAsciiValue)\n",
    "        if howManyLessThanA > 0:\n",
    "            return chr(self.__Z + 1 - howManyLessThanA)\n",
    "\n",
    "        # its fine\n",
    "        return chr(newAsciiValue)\n",
    "    \n",
    "    def __asciiValueAboveZ(self, asciiInput: int):\n",
    "        return asciiInput - self.__Z\n",
    "    \n",
    "    def __asciiValueBelowA(self, asciiInput: int):\n",
    "        return self.__A - asciiInput\n",
    "    \n",
    "    def getCaesarMessage(self):\n",
    "        return self.caesarMessage"
   ]
  },
  {
   "cell_type": "code",
   "execution_count": 26,
   "metadata": {},
   "outputs": [
    {
     "name": "stdout",
     "output_type": "stream",
     "text": [
      "cde\n"
     ]
    }
   ],
   "source": [
    "cypher = CaesarCypher(3)\n",
    "cypher.encodeString(\"zab\")\n",
    "print (cypher.getCaesarMessage())"
   ]
  },
  {
   "cell_type": "code",
   "execution_count": 27,
   "metadata": {},
   "outputs": [
    {
     "name": "stdout",
     "output_type": "stream",
     "text": [
      "wxy\n"
     ]
    }
   ],
   "source": [
    "cypher.decodeString(\"zab\")\n",
    "print(cypher.getCaesarMessage())"
   ]
  },
  {
   "cell_type": "code",
   "execution_count": 24,
   "metadata": {},
   "outputs": [
    {
     "name": "stdout",
     "output_type": "stream",
     "text": [
      "cde\n"
     ]
    }
   ],
   "source": [
    "cypher.encodeString(\"zab\")\n",
    "print (cypher.getCaesarMessage())\n",
    "    "
   ]
  },
  {
   "cell_type": "code",
   "execution_count": null,
   "metadata": {},
   "outputs": [],
   "source": []
  }
 ],
 "metadata": {
  "kernelspec": {
   "display_name": "Python 3",
   "language": "python",
   "name": "python3"
  },
  "language_info": {
   "codemirror_mode": {
    "name": "ipython",
    "version": 3
   },
   "file_extension": ".py",
   "mimetype": "text/x-python",
   "name": "python",
   "nbconvert_exporter": "python",
   "pygments_lexer": "ipython3",
   "version": "3.8.5"
  }
 },
 "nbformat": 4,
 "nbformat_minor": 4
}
